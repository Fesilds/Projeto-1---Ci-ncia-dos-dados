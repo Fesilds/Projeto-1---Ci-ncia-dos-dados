{
 "cells": [
  {
   "cell_type": "markdown",
   "metadata": {},
   "source": [
    "Projeto 1: Ciência dos dados\n",
    "\n",
    "Bloco econômico(MercoSul)\n",
    "\n",
    "Anos (1991 até 2000)\n",
    "\n",
    "Paises a serem analisados:\n",
    "- Argentina \n",
    "- Uruguai\n",
    "- Perú\n",
    "- Chile\n",
    "\n",
    "hipóteses:\n",
    "- Após se juntar a mercosul o pib do pais deve crescer consideravelmente \n",
    "- Sendo um pais pertencente ao bloco economico mercosul, o IDH do pais deve subir"
   ]
  },
  {
   "cell_type": "code",
   "execution_count": null,
   "metadata": {},
   "outputs": [],
   "source": []
  }
 ],
 "metadata": {
  "kernelspec": {
   "display_name": "Python 3",
   "language": "python",
   "name": "python3"
  },
  "language_info": {
   "codemirror_mode": {
    "name": "ipython",
    "version": 3
   },
   "file_extension": ".py",
   "mimetype": "text/x-python",
   "name": "python",
   "nbconvert_exporter": "python",
   "pygments_lexer": "ipython3",
   "version": "3.7.1"
  }
 },
 "nbformat": 4,
 "nbformat_minor": 2
}
