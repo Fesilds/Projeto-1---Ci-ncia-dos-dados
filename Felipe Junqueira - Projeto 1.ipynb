{
 "cells": [
  {
   "cell_type": "markdown",
   "metadata": {},
   "source": [
    "## Projeto 1: Ciência dos dados\n",
    "\n",
    "**Bloco econômico**\n",
    "- Mercosul\n",
    "\n",
    "**Período de tempo:**\n",
    "- 1980 até 2010\n",
    "\n",
    "**Paises a serem analisados:**\n",
    "- Argentina \n",
    "- Uruguai\n",
    "- Perú\n",
    "- Brasil\n",
    "\n",
    "\n",
    "**Perguntas**\n",
    "\n",
    "\n",
    "- Após se juntar a mercosul o pib do pais deve crescer consideravelmente?\n",
    "\n",
    "- Apos um dado tempo da participação de um pais no Mercosul seu IDH deve aumentar?\n",
    "\n",
    "**Hipóteses:**\n",
    "\n",
    "- Se juntando a um bloco economico como o Mercosul, o pais deve aumentar sua produção interna para expotação, uma vez que o bloco economico facilita relações comerciais entre pares.\n",
    "\n",
    "- Com o aumento na intensidade do comercio nos paises do bloco, como uma cosequencia passiva o IDH deve aumentar mais do que cresceria sem o auxilio do bloco economico."
   ]
  },
  {
   "cell_type": "code",
   "execution_count": 3,
   "metadata": {},
   "outputs": [],
   "source": [
    "%matplotlib inline\n",
    "import pandas as pd\n",
    "import matplotlib.pyplot as plt\n",
    "import numpy as np\n",
    "import os\n",
    "\n",
    "dados = pd.read_excel('hdi_human_development_index.xlsx')\n"
   ]
  },
  {
   "cell_type": "code",
   "execution_count": 4,
   "metadata": {
    "scrolled": true
   },
   "outputs": [
    {
     "name": "stdout",
     "output_type": "stream",
     "text": [
      "IDH\n"
     ]
    },
    {
     "data": {
      "text/html": [
       "<div>\n",
       "<style scoped>\n",
       "    .dataframe tbody tr th:only-of-type {\n",
       "        vertical-align: middle;\n",
       "    }\n",
       "\n",
       "    .dataframe tbody tr th {\n",
       "        vertical-align: top;\n",
       "    }\n",
       "\n",
       "    .dataframe thead th {\n",
       "        text-align: right;\n",
       "    }\n",
       "</style>\n",
       "<table border=\"1\" class=\"dataframe\">\n",
       "  <thead>\n",
       "    <tr style=\"text-align: right;\">\n",
       "      <th></th>\n",
       "      <th>country</th>\n",
       "      <th>1990</th>\n",
       "      <th>1991</th>\n",
       "      <th>1992</th>\n",
       "      <th>1993</th>\n",
       "      <th>1994</th>\n",
       "      <th>1995</th>\n",
       "      <th>1996</th>\n",
       "      <th>1997</th>\n",
       "      <th>1998</th>\n",
       "      <th>...</th>\n",
       "      <th>2006</th>\n",
       "      <th>2007</th>\n",
       "      <th>2008</th>\n",
       "      <th>2009</th>\n",
       "      <th>2010</th>\n",
       "      <th>2011</th>\n",
       "      <th>2012</th>\n",
       "      <th>2013</th>\n",
       "      <th>2014</th>\n",
       "      <th>2015</th>\n",
       "    </tr>\n",
       "  </thead>\n",
       "  <tbody>\n",
       "    <tr>\n",
       "      <th>0</th>\n",
       "      <td>Afghanistan</td>\n",
       "      <td>0.295</td>\n",
       "      <td>0.300</td>\n",
       "      <td>0.309</td>\n",
       "      <td>0.305</td>\n",
       "      <td>0.300</td>\n",
       "      <td>0.324</td>\n",
       "      <td>0.328</td>\n",
       "      <td>0.332</td>\n",
       "      <td>0.335</td>\n",
       "      <td>...</td>\n",
       "      <td>0.415</td>\n",
       "      <td>0.433</td>\n",
       "      <td>0.434</td>\n",
       "      <td>0.448</td>\n",
       "      <td>0.454</td>\n",
       "      <td>0.463</td>\n",
       "      <td>0.470</td>\n",
       "      <td>0.476</td>\n",
       "      <td>0.479</td>\n",
       "      <td>0.479</td>\n",
       "    </tr>\n",
       "    <tr>\n",
       "      <th>1</th>\n",
       "      <td>Albania</td>\n",
       "      <td>0.635</td>\n",
       "      <td>0.618</td>\n",
       "      <td>0.603</td>\n",
       "      <td>0.608</td>\n",
       "      <td>0.616</td>\n",
       "      <td>0.628</td>\n",
       "      <td>0.637</td>\n",
       "      <td>0.636</td>\n",
       "      <td>0.646</td>\n",
       "      <td>...</td>\n",
       "      <td>0.703</td>\n",
       "      <td>0.713</td>\n",
       "      <td>0.721</td>\n",
       "      <td>0.725</td>\n",
       "      <td>0.738</td>\n",
       "      <td>0.752</td>\n",
       "      <td>0.759</td>\n",
       "      <td>0.761</td>\n",
       "      <td>0.762</td>\n",
       "      <td>0.764</td>\n",
       "    </tr>\n",
       "    <tr>\n",
       "      <th>2</th>\n",
       "      <td>Algeria</td>\n",
       "      <td>0.577</td>\n",
       "      <td>0.581</td>\n",
       "      <td>0.587</td>\n",
       "      <td>0.591</td>\n",
       "      <td>0.595</td>\n",
       "      <td>0.600</td>\n",
       "      <td>0.609</td>\n",
       "      <td>0.617</td>\n",
       "      <td>0.627</td>\n",
       "      <td>...</td>\n",
       "      <td>0.690</td>\n",
       "      <td>0.697</td>\n",
       "      <td>0.705</td>\n",
       "      <td>0.714</td>\n",
       "      <td>0.724</td>\n",
       "      <td>0.732</td>\n",
       "      <td>0.737</td>\n",
       "      <td>0.741</td>\n",
       "      <td>0.743</td>\n",
       "      <td>0.745</td>\n",
       "    </tr>\n",
       "    <tr>\n",
       "      <th>3</th>\n",
       "      <td>Andorra</td>\n",
       "      <td>NaN</td>\n",
       "      <td>NaN</td>\n",
       "      <td>NaN</td>\n",
       "      <td>NaN</td>\n",
       "      <td>NaN</td>\n",
       "      <td>NaN</td>\n",
       "      <td>NaN</td>\n",
       "      <td>NaN</td>\n",
       "      <td>NaN</td>\n",
       "      <td>...</td>\n",
       "      <td>NaN</td>\n",
       "      <td>NaN</td>\n",
       "      <td>NaN</td>\n",
       "      <td>NaN</td>\n",
       "      <td>0.819</td>\n",
       "      <td>0.819</td>\n",
       "      <td>0.843</td>\n",
       "      <td>0.850</td>\n",
       "      <td>0.857</td>\n",
       "      <td>0.858</td>\n",
       "    </tr>\n",
       "    <tr>\n",
       "      <th>4</th>\n",
       "      <td>Angola</td>\n",
       "      <td>NaN</td>\n",
       "      <td>NaN</td>\n",
       "      <td>NaN</td>\n",
       "      <td>NaN</td>\n",
       "      <td>NaN</td>\n",
       "      <td>NaN</td>\n",
       "      <td>NaN</td>\n",
       "      <td>NaN</td>\n",
       "      <td>NaN</td>\n",
       "      <td>...</td>\n",
       "      <td>0.454</td>\n",
       "      <td>0.468</td>\n",
       "      <td>0.480</td>\n",
       "      <td>0.488</td>\n",
       "      <td>0.495</td>\n",
       "      <td>0.508</td>\n",
       "      <td>0.523</td>\n",
       "      <td>0.527</td>\n",
       "      <td>0.531</td>\n",
       "      <td>0.533</td>\n",
       "    </tr>\n",
       "  </tbody>\n",
       "</table>\n",
       "<p>5 rows × 27 columns</p>\n",
       "</div>"
      ],
      "text/plain": [
       "       country   1990   1991   1992   1993   1994   1995   1996   1997   1998  \\\n",
       "0  Afghanistan  0.295  0.300  0.309  0.305  0.300  0.324  0.328  0.332  0.335   \n",
       "1      Albania  0.635  0.618  0.603  0.608  0.616  0.628  0.637  0.636  0.646   \n",
       "2      Algeria  0.577  0.581  0.587  0.591  0.595  0.600  0.609  0.617  0.627   \n",
       "3      Andorra    NaN    NaN    NaN    NaN    NaN    NaN    NaN    NaN    NaN   \n",
       "4       Angola    NaN    NaN    NaN    NaN    NaN    NaN    NaN    NaN    NaN   \n",
       "\n",
       "   ...     2006   2007   2008   2009   2010   2011   2012   2013   2014   2015  \n",
       "0  ...    0.415  0.433  0.434  0.448  0.454  0.463  0.470  0.476  0.479  0.479  \n",
       "1  ...    0.703  0.713  0.721  0.725  0.738  0.752  0.759  0.761  0.762  0.764  \n",
       "2  ...    0.690  0.697  0.705  0.714  0.724  0.732  0.737  0.741  0.743  0.745  \n",
       "3  ...      NaN    NaN    NaN    NaN  0.819  0.819  0.843  0.850  0.857  0.858  \n",
       "4  ...    0.454  0.468  0.480  0.488  0.495  0.508  0.523  0.527  0.531  0.533  \n",
       "\n",
       "[5 rows x 27 columns]"
      ]
     },
     "execution_count": 4,
     "metadata": {},
     "output_type": "execute_result"
    }
   ],
   "source": [
    "print('IDH')\n",
    "dados.head()\n"
   ]
  },
  {
   "cell_type": "code",
   "execution_count": 5,
   "metadata": {},
   "outputs": [],
   "source": [
    "dadospib = pd.read_excel('indicator_WB_data_GDP.xlsx')"
   ]
  },
  {
   "cell_type": "code",
   "execution_count": 6,
   "metadata": {
    "scrolled": true
   },
   "outputs": [
    {
     "name": "stdout",
     "output_type": "stream",
     "text": [
      "PIB per capta\n"
     ]
    },
    {
     "data": {
      "text/html": [
       "<div>\n",
       "<style scoped>\n",
       "    .dataframe tbody tr th:only-of-type {\n",
       "        vertical-align: middle;\n",
       "    }\n",
       "\n",
       "    .dataframe tbody tr th {\n",
       "        vertical-align: top;\n",
       "    }\n",
       "\n",
       "    .dataframe thead th {\n",
       "        text-align: right;\n",
       "    }\n",
       "</style>\n",
       "<table border=\"1\" class=\"dataframe\">\n",
       "  <thead>\n",
       "    <tr style=\"text-align: right;\">\n",
       "      <th></th>\n",
       "      <th>GDP per capity, 2005 ppp, WB data</th>\n",
       "      <th>1980</th>\n",
       "      <th>1981</th>\n",
       "      <th>1982</th>\n",
       "      <th>1983</th>\n",
       "      <th>1984</th>\n",
       "      <th>1985</th>\n",
       "      <th>1986</th>\n",
       "      <th>1987</th>\n",
       "      <th>1988</th>\n",
       "      <th>...</th>\n",
       "      <th>2002</th>\n",
       "      <th>2003</th>\n",
       "      <th>2004</th>\n",
       "      <th>2005</th>\n",
       "      <th>2006</th>\n",
       "      <th>2007</th>\n",
       "      <th>2008</th>\n",
       "      <th>2009</th>\n",
       "      <th>2010</th>\n",
       "      <th>2011</th>\n",
       "    </tr>\n",
       "  </thead>\n",
       "  <tbody>\n",
       "    <tr>\n",
       "      <th>0</th>\n",
       "      <td>Afghanistan</td>\n",
       "      <td>NaN</td>\n",
       "      <td>NaN</td>\n",
       "      <td>NaN</td>\n",
       "      <td>NaN</td>\n",
       "      <td>NaN</td>\n",
       "      <td>NaN</td>\n",
       "      <td>NaN</td>\n",
       "      <td>NaN</td>\n",
       "      <td>NaN</td>\n",
       "      <td>...</td>\n",
       "      <td>568.551946</td>\n",
       "      <td>631.782712</td>\n",
       "      <td>672.079195</td>\n",
       "      <td>748.112813</td>\n",
       "      <td>808.902073</td>\n",
       "      <td>874.197993</td>\n",
       "      <td>879.032676</td>\n",
       "      <td>1029.215154</td>\n",
       "      <td>1082.949267</td>\n",
       "      <td>NaN</td>\n",
       "    </tr>\n",
       "    <tr>\n",
       "      <th>1</th>\n",
       "      <td>Albania</td>\n",
       "      <td>4241.822480</td>\n",
       "      <td>4397.101349</td>\n",
       "      <td>4441.090088</td>\n",
       "      <td>4404.391583</td>\n",
       "      <td>4260.021529</td>\n",
       "      <td>4238.547755</td>\n",
       "      <td>4365.299637</td>\n",
       "      <td>4216.080841</td>\n",
       "      <td>4053.640737</td>\n",
       "      <td>...</td>\n",
       "      <td>5253.756466</td>\n",
       "      <td>5522.970763</td>\n",
       "      <td>5814.835828</td>\n",
       "      <td>6101.576853</td>\n",
       "      <td>6376.603379</td>\n",
       "      <td>6725.003521</td>\n",
       "      <td>7216.119498</td>\n",
       "      <td>7427.807916</td>\n",
       "      <td>7660.043814</td>\n",
       "      <td>7861.131481</td>\n",
       "    </tr>\n",
       "    <tr>\n",
       "      <th>2</th>\n",
       "      <td>Algeria</td>\n",
       "      <td>6358.196927</td>\n",
       "      <td>6336.322495</td>\n",
       "      <td>6522.698293</td>\n",
       "      <td>6654.029143</td>\n",
       "      <td>6806.901254</td>\n",
       "      <td>6846.265732</td>\n",
       "      <td>6675.716338</td>\n",
       "      <td>6446.264094</td>\n",
       "      <td>6212.727651</td>\n",
       "      <td>...</td>\n",
       "      <td>6344.119808</td>\n",
       "      <td>6681.642459</td>\n",
       "      <td>6924.379244</td>\n",
       "      <td>7168.564544</td>\n",
       "      <td>7201.681842</td>\n",
       "      <td>7305.142336</td>\n",
       "      <td>7367.171813</td>\n",
       "      <td>7431.280165</td>\n",
       "      <td>7564.391141</td>\n",
       "      <td>7643.171434</td>\n",
       "    </tr>\n",
       "    <tr>\n",
       "      <th>3</th>\n",
       "      <td>American Samoa</td>\n",
       "      <td>NaN</td>\n",
       "      <td>NaN</td>\n",
       "      <td>NaN</td>\n",
       "      <td>NaN</td>\n",
       "      <td>NaN</td>\n",
       "      <td>NaN</td>\n",
       "      <td>NaN</td>\n",
       "      <td>NaN</td>\n",
       "      <td>NaN</td>\n",
       "      <td>...</td>\n",
       "      <td>NaN</td>\n",
       "      <td>NaN</td>\n",
       "      <td>NaN</td>\n",
       "      <td>NaN</td>\n",
       "      <td>NaN</td>\n",
       "      <td>NaN</td>\n",
       "      <td>NaN</td>\n",
       "      <td>NaN</td>\n",
       "      <td>NaN</td>\n",
       "      <td>NaN</td>\n",
       "    </tr>\n",
       "    <tr>\n",
       "      <th>4</th>\n",
       "      <td>Andorra</td>\n",
       "      <td>NaN</td>\n",
       "      <td>NaN</td>\n",
       "      <td>NaN</td>\n",
       "      <td>NaN</td>\n",
       "      <td>NaN</td>\n",
       "      <td>NaN</td>\n",
       "      <td>NaN</td>\n",
       "      <td>NaN</td>\n",
       "      <td>NaN</td>\n",
       "      <td>...</td>\n",
       "      <td>NaN</td>\n",
       "      <td>NaN</td>\n",
       "      <td>NaN</td>\n",
       "      <td>NaN</td>\n",
       "      <td>NaN</td>\n",
       "      <td>NaN</td>\n",
       "      <td>NaN</td>\n",
       "      <td>NaN</td>\n",
       "      <td>NaN</td>\n",
       "      <td>NaN</td>\n",
       "    </tr>\n",
       "  </tbody>\n",
       "</table>\n",
       "<p>5 rows × 33 columns</p>\n",
       "</div>"
      ],
      "text/plain": [
       "  GDP per capity, 2005 ppp, WB data         1980         1981         1982  \\\n",
       "0                       Afghanistan          NaN          NaN          NaN   \n",
       "1                           Albania  4241.822480  4397.101349  4441.090088   \n",
       "2                           Algeria  6358.196927  6336.322495  6522.698293   \n",
       "3                    American Samoa          NaN          NaN          NaN   \n",
       "4                           Andorra          NaN          NaN          NaN   \n",
       "\n",
       "          1983         1984         1985         1986         1987  \\\n",
       "0          NaN          NaN          NaN          NaN          NaN   \n",
       "1  4404.391583  4260.021529  4238.547755  4365.299637  4216.080841   \n",
       "2  6654.029143  6806.901254  6846.265732  6675.716338  6446.264094   \n",
       "3          NaN          NaN          NaN          NaN          NaN   \n",
       "4          NaN          NaN          NaN          NaN          NaN   \n",
       "\n",
       "          1988     ...              2002         2003         2004  \\\n",
       "0          NaN     ...        568.551946   631.782712   672.079195   \n",
       "1  4053.640737     ...       5253.756466  5522.970763  5814.835828   \n",
       "2  6212.727651     ...       6344.119808  6681.642459  6924.379244   \n",
       "3          NaN     ...               NaN          NaN          NaN   \n",
       "4          NaN     ...               NaN          NaN          NaN   \n",
       "\n",
       "          2005         2006         2007         2008         2009  \\\n",
       "0   748.112813   808.902073   874.197993   879.032676  1029.215154   \n",
       "1  6101.576853  6376.603379  6725.003521  7216.119498  7427.807916   \n",
       "2  7168.564544  7201.681842  7305.142336  7367.171813  7431.280165   \n",
       "3          NaN          NaN          NaN          NaN          NaN   \n",
       "4          NaN          NaN          NaN          NaN          NaN   \n",
       "\n",
       "          2010         2011  \n",
       "0  1082.949267          NaN  \n",
       "1  7660.043814  7861.131481  \n",
       "2  7564.391141  7643.171434  \n",
       "3          NaN          NaN  \n",
       "4          NaN          NaN  \n",
       "\n",
       "[5 rows x 33 columns]"
      ]
     },
     "execution_count": 6,
     "metadata": {},
     "output_type": "execute_result"
    }
   ],
   "source": [
    "print('PIB per capta')\n",
    "dadospib.head()"
   ]
  },
  {
   "cell_type": "code",
   "execution_count": 7,
   "metadata": {},
   "outputs": [],
   "source": [
    "percappib_idx = dadospib.set_index('GDP per capity, 2005 ppp, WB data')"
   ]
  },
  {
   "cell_type": "code",
   "execution_count": 8,
   "metadata": {},
   "outputs": [
    {
     "name": "stdout",
     "output_type": "stream",
     "text": [
      "PIB da Argentina ao longo do tempo\n"
     ]
    }
   ],
   "source": [
    "percappib_idx.loc[\"Argentina\"]\n",
    "print(\"PIB da Argentina ao longo do tempo\")"
   ]
  },
  {
   "cell_type": "code",
   "execution_count": 9,
   "metadata": {
    "scrolled": true
   },
   "outputs": [
    {
     "data": {
      "image/png": "[encoded data removed]",
      "text/plain": [
       "<Figure size 432x288 with 1 Axes>"
      ]
     },
     "metadata": {
      "needs_background": "light"
     },
     "output_type": "display_data"
    }
   ],
   "source": [
    "plt.plot(percappib_idx.loc[\"Argentina\"])\n",
    "plt.title(\"PIB da Argentina\")\n",
    "plt.xlabel(\"Ano\")\n",
    "plt.ylabel(\"PIB\")\n",
    "plt.grid(True)\n",
    "plt.show()"
   ]
  },
  {
   "cell_type": "code",
   "execution_count": 34,
   "metadata": {},
   "outputs": [
    {
     "name": "stdout",
     "output_type": "stream",
     "text": [
      "PIB per capita Peru\n"
     ]
    },
    {
     "data": {
      "text/plain": [
       "1980    6083.248546\n",
       "1981    6360.671500\n",
       "1982    6171.926880\n",
       "1983    5316.870060\n",
       "1984    5465.290264\n",
       "1985    5491.432022\n",
       "1986    5905.910905\n",
       "1987    6238.399733\n",
       "1988    5573.101135\n",
       "1989    4817.799109\n",
       "1990    4476.895330\n",
       "1991    4483.605782\n",
       "1992    4379.024286\n",
       "1993    4502.458308\n",
       "1994    4987.647783\n",
       "1995    5320.944107\n",
       "1996    5360.115544\n",
       "1997    5630.813787\n",
       "1998    5501.920485\n",
       "1999    5465.170258\n",
       "2000    5543.033552\n",
       "2001    5477.347311\n",
       "2002    5676.361013\n",
       "2003    5831.292659\n",
       "2004    6048.315079\n",
       "2005    6386.955259\n",
       "2006    6805.373976\n",
       "2007    7332.575781\n",
       "2008    7967.329574\n",
       "2009    7949.570574\n",
       "2010    8558.359098\n",
       "2011    9049.320988\n",
       "Name: Peru, dtype: float64"
      ]
     },
     "execution_count": 34,
     "metadata": {},
     "output_type": "execute_result"
    }
   ],
   "source": [
    "print(\"PIB per capita Peru\")\n",
    "percappib_idx.loc[\"Peru\"]"
   ]
  },
  {
   "cell_type": "code",
   "execution_count": 11,
   "metadata": {},
   "outputs": [
    {
     "data": {
      "image/png": "[encoded data removed]",
      "text/plain": [
       "<Figure size 432x288 with 1 Axes>"
      ]
     },
     "metadata": {
      "needs_background": "light"
     },
     "output_type": "display_data"
    }
   ],
   "source": [
    "plt.plot(percappib_idx.loc[\"Peru\"])\n",
    "plt.title(\"PIB do Peru\")\n",
    "plt.xlabel(\"Ano\")\n",
    "plt.ylabel(\"PIB per capita\")\n",
    "plt.grid(True)\n",
    "plt.show()"
   ]
  },
  {
   "cell_type": "code",
   "execution_count": 33,
   "metadata": {},
   "outputs": [
    {
     "name": "stdout",
     "output_type": "stream",
     "text": [
      "PIB per capita Urugai\n"
     ]
    },
    {
     "data": {
      "text/plain": [
       "1980     7808.590786\n",
       "1981     7878.415884\n",
       "1982     7063.392363\n",
       "1983     6296.804410\n",
       "1984     6184.915941\n",
       "1985     6235.416185\n",
       "1986     6741.791527\n",
       "1987     7235.284906\n",
       "1988     7296.461063\n",
       "1989     7329.363709\n",
       "1990     7301.477021\n",
       "1991     7506.701785\n",
       "1992     8043.743625\n",
       "1993     8197.267311\n",
       "1994     8730.093720\n",
       "1995     8542.169213\n",
       "1996     8984.786925\n",
       "1997     9690.979699\n",
       "1998    10074.465913\n",
       "1999     9833.916333\n",
       "2000     9608.985184\n",
       "2001     9218.632066\n",
       "2002     8505.409073\n",
       "2003     8586.845145\n",
       "2004     9021.480849\n",
       "2005     9682.791069\n",
       "2006    10053.059351\n",
       "2007    10680.262640\n",
       "2008    11411.859801\n",
       "2009    11649.733271\n",
       "2010    12641.940909\n",
       "2011    13314.926680\n",
       "Name: Uruguay, dtype: float64"
      ]
     },
     "execution_count": 33,
     "metadata": {},
     "output_type": "execute_result"
    }
   ],
   "source": [
    "print(\"PIB per capita Urugai\")\n",
    "percappib_idx.loc[\"Uruguay\"]"
   ]
  },
  {
   "cell_type": "code",
   "execution_count": 13,
   "metadata": {},
   "outputs": [
    {
     "data": {
      "image/png": "[encoded data removed]",
      "text/plain": [
       "<Figure size 432x288 with 1 Axes>"
      ]
     },
     "metadata": {
      "needs_background": "light"
     },
     "output_type": "display_data"
    }
   ],
   "source": [
    "plt.plot(percappib_idx.loc[\"Uruguay\"])\n",
    "plt.title(\"PIB do Uruguay\")\n",
    "plt.xlabel(\"Ano\")\n",
    "plt.ylabel(\"PIB per capita\")\n",
    "plt.grid(True)\n",
    "plt.show()"
   ]
  },
  {
   "cell_type": "code",
   "execution_count": 32,
   "metadata": {},
   "outputs": [
    {
     "name": "stdout",
     "output_type": "stream",
     "text": [
      "PIB per capita do Brasil\n"
     ]
    },
    {
     "data": {
      "text/plain": [
       "1980     7566.517959\n",
       "1981     7067.068960\n",
       "1982     6944.957290\n",
       "1983     6556.751339\n",
       "1984     6751.073089\n",
       "1985     7134.174453\n",
       "1986     7548.790309\n",
       "1987     7669.289768\n",
       "1988     7519.342565\n",
       "1989     7627.696227\n",
       "1990     7174.757871\n",
       "1991     7163.729365\n",
       "1992     7017.953649\n",
       "1993     7232.881903\n",
       "1994     7503.389360\n",
       "1995     7716.220189\n",
       "1996     7762.485505\n",
       "1997     7902.962475\n",
       "1998     7787.394784\n",
       "1999     7692.209306\n",
       "2000     7909.105808\n",
       "2001     7901.677245\n",
       "2002     8002.597392\n",
       "2003     7990.103471\n",
       "2004     8343.609593\n",
       "2005     8509.426303\n",
       "2006     8753.230644\n",
       "2007     9196.416938\n",
       "2008     9583.866106\n",
       "2009     9468.207522\n",
       "2010    10092.726960\n",
       "2011    10278.429752\n",
       "Name: Brazil, dtype: float64"
      ]
     },
     "execution_count": 32,
     "metadata": {},
     "output_type": "execute_result"
    }
   ],
   "source": [
    "print(\"PIB per capita do Brasil\")\n",
    "percappib_idx.loc[\"Brazil\"]"
   ]
  },
  {
   "cell_type": "code",
   "execution_count": 15,
   "metadata": {},
   "outputs": [
    {
     "data": {
      "image/png": "[encoded data removed]",
      "text/plain": [
       "<Figure size 432x288 with 1 Axes>"
      ]
     },
     "metadata": {
      "needs_background": "light"
     },
     "output_type": "display_data"
    }
   ],
   "source": [
    "plt.plot(percappib_idx.loc[\"Brazil\"])\n",
    "plt.title(\"PIB do Brasil\")\n",
    "plt.xlabel(\"Ano\")\n",
    "plt.ylabel(\"PIB percapita\")\n",
    "plt.grid(True)\n",
    "plt.show()"
   ]
  },
  {
   "cell_type": "code",
   "execution_count": 16,
   "metadata": {},
   "outputs": [
    {
     "data": {
      "image/png": "[encoded data removed]",
      "text/plain": [
       "<Figure size 432x288 with 1 Axes>"
      ]
     },
     "metadata": {
      "needs_background": "light"
     },
     "output_type": "display_data"
    }
   ],
   "source": [
    "plt.plot(percappib_idx.loc[\"Argentina\"])\n",
    "plt.plot(percappib_idx.loc[\"Peru\"])\n",
    "plt.plot(percappib_idx.loc[\"Uruguay\"])\n",
    "plt.plot(percappib_idx.loc[\"Brazil\"])\n",
    "plt.title(\"PIB dos paises analisados\")\n",
    "plt.xlabel(\"Ano\")\n",
    "plt.ylabel(\"PIB per capita\")\n",
    "plt.legend()\n",
    "plt.grid(True)\n",
    "plt.show()\n"
   ]
  },
  {
   "cell_type": "code",
   "execution_count": 17,
   "metadata": {},
   "outputs": [],
   "source": [
    "idh_idx = dados.set_index('country')"
   ]
  },
  {
   "cell_type": "code",
   "execution_count": 31,
   "metadata": {},
   "outputs": [
    {
     "name": "stdout",
     "output_type": "stream",
     "text": [
      "IDH da Argentina\n"
     ]
    },
    {
     "data": {
      "text/plain": [
       "1990    0.705\n",
       "1991    0.713\n",
       "1992    0.720\n",
       "1993    0.725\n",
       "1994    0.728\n",
       "1995    0.731\n",
       "1996    0.738\n",
       "1997    0.746\n",
       "1998    0.753\n",
       "1999    0.764\n",
       "2000    0.771\n",
       "2001    0.776\n",
       "2002    0.770\n",
       "2003    0.775\n",
       "2004    0.780\n",
       "2005    0.782\n",
       "2006    0.788\n",
       "2007    0.792\n",
       "2008    0.794\n",
       "2009    0.802\n",
       "2010    0.816\n",
       "2011    0.822\n",
       "2012    0.823\n",
       "2013    0.825\n",
       "2014    0.826\n",
       "2015    0.827\n",
       "Name: Argentina, dtype: float64"
      ]
     },
     "execution_count": 31,
     "metadata": {},
     "output_type": "execute_result"
    }
   ],
   "source": [
    "print(\"IDH da Argentina\")\n",
    "idh_idx.loc[\"Argentina\"]"
   ]
  },
  {
   "cell_type": "code",
   "execution_count": 19,
   "metadata": {},
   "outputs": [
    {
     "data": {
      "image/png": "[encoded data removed]",
      "text/plain": [
       "<Figure size 432x288 with 1 Axes>"
      ]
     },
     "metadata": {
      "needs_background": "light"
     },
     "output_type": "display_data"
    }
   ],
   "source": [
    "plt.plot(idh_idx.loc[\"Argentina\"])\n",
    "plt.title(\"IDH da Argentina\")\n",
    "plt.xlabel(\"Ano\")\n",
    "plt.ylabel(\"IDH\")\n",
    "plt.grid(True)\n",
    "plt.show()"
   ]
  },
  {
   "cell_type": "code",
   "execution_count": 30,
   "metadata": {},
   "outputs": [
    {
     "name": "stdout",
     "output_type": "stream",
     "text": [
      "IDH Urugai\n"
     ]
    },
    {
     "data": {
      "text/plain": [
       "1990    0.692\n",
       "1991    0.697\n",
       "1992    0.700\n",
       "1993    0.703\n",
       "1994    0.709\n",
       "1995    0.711\n",
       "1996    0.717\n",
       "1997    0.727\n",
       "1998    0.735\n",
       "1999    0.738\n",
       "2000    0.742\n",
       "2001    0.746\n",
       "2002    0.747\n",
       "2003    0.750\n",
       "2004    0.753\n",
       "2005    0.756\n",
       "2006    0.760\n",
       "2007    0.770\n",
       "2008    0.774\n",
       "2009    0.777\n",
       "2010    0.780\n",
       "2011    0.784\n",
       "2012    0.788\n",
       "2013    0.791\n",
       "2014    0.794\n",
       "2015    0.795\n",
       "Name: Uruguay, dtype: float64"
      ]
     },
     "execution_count": 30,
     "metadata": {},
     "output_type": "execute_result"
    }
   ],
   "source": [
    "print(\"IDH Urugai\")\n",
    "idh_idx.loc[\"Uruguay\"]"
   ]
  },
  {
   "cell_type": "code",
   "execution_count": 21,
   "metadata": {},
   "outputs": [
    {
     "data": {
      "image/png": "[encoded data removed]",
      "text/plain": [
       "<Figure size 432x288 with 1 Axes>"
      ]
     },
     "metadata": {
      "needs_background": "light"
     },
     "output_type": "display_data"
    }
   ],
   "source": [
    "plt.plot(idh_idx.loc[\"Uruguay\"])\n",
    "plt.title(\"IDH da Urugay\")\n",
    "plt.xlabel(\"Ano\")\n",
    "plt.ylabel(\"IDH\")\n",
    "plt.grid(True)\n",
    "plt.show()"
   ]
  },
  {
   "cell_type": "code",
   "execution_count": 29,
   "metadata": {},
   "outputs": [
    {
     "name": "stdout",
     "output_type": "stream",
     "text": [
      "IDH do Brasil\n"
     ]
    },
    {
     "data": {
      "text/plain": [
       "1990    0.611\n",
       "1991    0.615\n",
       "1992    0.622\n",
       "1993    0.631\n",
       "1994    0.640\n",
       "1995    0.649\n",
       "1996    0.656\n",
       "1997    0.664\n",
       "1998    0.671\n",
       "1999    0.677\n",
       "2000    0.685\n",
       "2001    0.692\n",
       "2002    0.699\n",
       "2003    0.695\n",
       "2004    0.694\n",
       "2005    0.698\n",
       "2006    0.700\n",
       "2007    0.704\n",
       "2008    0.714\n",
       "2009    0.716\n",
       "2010    0.724\n",
       "2011    0.730\n",
       "2012    0.734\n",
       "2013    0.747\n",
       "2014    0.754\n",
       "2015    0.754\n",
       "Name: Brazil, dtype: float64"
      ]
     },
     "execution_count": 29,
     "metadata": {},
     "output_type": "execute_result"
    }
   ],
   "source": [
    "print(\"IDH do Brasil\")\n",
    "idh_idx.loc[\"Brazil\"]"
   ]
  },
  {
   "cell_type": "code",
   "execution_count": 23,
   "metadata": {},
   "outputs": [
    {
     "data": {
      "image/png": "[encoded data removed]",
      "text/plain": [
       "<Figure size 432x288 with 1 Axes>"
      ]
     },
     "metadata": {
      "needs_background": "light"
     },
     "output_type": "display_data"
    }
   ],
   "source": [
    "plt.plot(idh_idx.loc[\"Brazil\"])\n",
    "plt.title(\"IDH do Brasil\")\n",
    "plt.xlabel(\"Ano\")\n",
    "plt.ylabel(\"IDH\")\n",
    "plt.grid(True)\n",
    "plt.show()"
   ]
  },
  {
   "cell_type": "code",
   "execution_count": 28,
   "metadata": {},
   "outputs": [
    {
     "name": "stdout",
     "output_type": "stream",
     "text": [
      "IDH do Peru\n",
      "1990    0.613\n",
      "1991    0.616\n",
      "1992    0.616\n",
      "1993    0.621\n",
      "1994    0.632\n",
      "1995    0.642\n",
      "1996    0.647\n",
      "1997    0.654\n",
      "1998    0.664\n",
      "1999    0.674\n",
      "2000    0.677\n",
      "2001    0.686\n",
      "2002    0.686\n",
      "2003    0.685\n",
      "2004    0.692\n",
      "2005    0.693\n",
      "2006    0.696\n",
      "2007    0.700\n",
      "2008    0.706\n",
      "2009    0.708\n",
      "2010    0.721\n",
      "2011    0.725\n",
      "2012    0.731\n",
      "2013    0.735\n",
      "2014    0.737\n",
      "2015    0.740\n",
      "Name: Peru, dtype: float64\n"
     ]
    }
   ],
   "source": [
    "print(\"IDH do Peru\")\n",
    "idh_idx.loc[\"Peru\"]\n",
    "print(idh_idx.loc[\"Peru\"])\n"
   ]
  },
  {
   "cell_type": "code",
   "execution_count": 25,
   "metadata": {},
   "outputs": [
    {
     "data": {
      "image/png": "[encoded data removed]",
      "text/plain": [
       "<Figure size 432x288 with 1 Axes>"
      ]
     },
     "metadata": {
      "needs_background": "light"
     },
     "output_type": "display_data"
    }
   ],
   "source": [
    "plt.plot(idh_idx.loc[\"Peru\"])\n",
    "plt.title(\"IDH do Peru\")\n",
    "plt.xlabel(\"Ano\")\n",
    "plt.ylabel(\"IDH\")\n",
    "plt.grid(True)\n",
    "plt.show()"
   ]
  },
  {
   "cell_type": "code",
   "execution_count": 26,
   "metadata": {},
   "outputs": [
    {
     "data": {
      "image/png": "[encoded data removed]",
      "text/plain": [
       "<Figure size 432x288 with 1 Axes>"
      ]
     },
     "metadata": {
      "needs_background": "light"
     },
     "output_type": "display_data"
    }
   ],
   "source": [
    "plt.plot(idh_idx.loc[\"Argentina\"])\n",
    "plt.plot(idh_idx.loc[\"Peru\"])\n",
    "plt.plot(idh_idx.loc[\"Uruguay\"])\n",
    "plt.plot(idh_idx.loc[\"Brazil\"])\n",
    "plt.title(\"IDH dos paises analisados\")\n",
    "plt.xlabel(\"Ano\")\n",
    "plt.ylabel(\"IDH\")\n",
    "plt.legend()\n",
    "plt.grid(True)\n",
    "plt.show()"
   ]
  },
  {
   "cell_type": "markdown",
   "metadata": {},
   "source": [
    "**Para proximos passos**\n",
    "\n",
    "- Calcular a média de IDH entre os paises destacados e entre todos os paises no mundo para avaliar o desenvolvimento anual com um referente \n",
    "\n",
    "- Calcular a média do PIB entre os paises destacados e entre todos os paises no mundo para avaliar o crecimento e a taxa de crecimento \n"
   ]
  },
  {
   "cell_type": "code",
   "execution_count": null,
   "metadata": {},
   "outputs": [],
   "source": []
  },
  {
   "cell_type": "code",
   "execution_count": null,
   "metadata": {},
   "outputs": [],
   "source": []
  },
  {
   "cell_type": "code",
   "execution_count": null,
   "metadata": {},
   "outputs": [],
   "source": []
  },
  {
   "cell_type": "code",
   "execution_count": null,
   "metadata": {},
   "outputs": [],
   "source": []
  }
 ],
 "metadata": {
  "kernelspec": {
   "display_name": "Python 3",
   "language": "python",
   "name": "python3"
  },
  "language_info": {
   "codemirror_mode": {
    "name": "ipython",
    "version": 3
   },
   "file_extension": ".py",
   "mimetype": "text/x-python",
   "name": "python",
   "nbconvert_exporter": "python",
   "pygments_lexer": "ipython3",
   "version": "3.7.1"
  }
 },
 "nbformat": 4,
 "nbformat_minor": 2
}
